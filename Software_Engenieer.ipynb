{
  "cells": [
    {
      "cell_type": "markdown",
      "metadata": {
        "id": "view-in-github",
        "colab_type": "text"
      },
      "source": [
        "<a href=\"https://colab.research.google.com/github/brunomcr/software_engeneer/blob/main/Software_Engenieer.ipynb\" target=\"_parent\"><img src=\"https://colab.research.google.com/assets/colab-badge.svg\" alt=\"Open In Colab\"/></a>"
      ]
    },
    {
      "cell_type": "markdown",
      "metadata": {
        "id": "giN4rMweI4-7"
      },
      "source": [
        "#### Imports"
      ]
    },
    {
      "cell_type": "code",
      "execution_count": null,
      "metadata": {
        "id": "4ROWmbn_n9zC"
      },
      "outputs": [],
      "source": [
        "import math\n",
        "import array\n",
        "\n",
        "import numpy as np\n",
        "import matplotlib.pyplot as plt\n",
        "\n",
        "from time import process_time"
      ]
    },
    {
      "cell_type": "markdown",
      "metadata": {
        "id": "xCGTFpHaQtmk"
      },
      "source": [
        "---\n",
        "# Big O Notation\n",
        "\n",
        "How time scales with respect to some input variables"
      ]
    },
    {
      "cell_type": "markdown",
      "source": [
        "#### Important Rules of Big O"
      ],
      "metadata": {
        "id": "7AMz4v89mXjQ"
      }
    },
    {
      "cell_type": "markdown",
      "metadata": {
        "id": "3ybZ5SpqHDfR"
      },
      "source": [
        "* Different steps get added\n",
        "```\n",
        "n * n = n² == O(n²)\n",
        "```\n",
        "\n",
        "* Drop constants\n",
        "```\n",
        "n + n = 2n == O(n)\n",
        "```\n",
        "\n",
        "* Different inputs => Differents variables\n",
        "```\n",
        "a + b == O(a + b)\n",
        "a * b == O(a * b)\n",
        "```\n",
        "\n",
        "* Drop non-dominate terms\n",
        "```\n",
        "n * n + n = n² + n == O(n²)\n",
        "```"
      ]
    },
    {
      "cell_type": "markdown",
      "source": [
        "#### Order of Growth (smallest to largest)\n"
      ],
      "metadata": {
        "id": "9nRpUxWYjetl"
      }
    },
    {
      "cell_type": "markdown",
      "source": [
        "\n",
        "* O(1) - Constant\n"
      ],
      "metadata": {
        "id": "NAN67jvBjjeS"
      }
    },
    {
      "cell_type": "code",
      "source": [
        "def constant(n):\n",
        "  cons = 100 * n  # O(1)\n",
        "  return cons"
      ],
      "metadata": {
        "id": "EVovueN9jm0j"
      },
      "execution_count": null,
      "outputs": []
    },
    {
      "cell_type": "markdown",
      "source": [
        "\n",
        "* O(log n) - Logarithmic\n"
      ],
      "metadata": {
        "id": "ThcraXK1jvy_"
      }
    },
    {
      "cell_type": "code",
      "source": [
        "def logarithmic(n, base):\n",
        "  return math.log(n, base)  # O(log n)"
      ],
      "metadata": {
        "id": "IdboAL-bjy0k"
      },
      "execution_count": null,
      "outputs": []
    },
    {
      "cell_type": "markdown",
      "source": [
        "\n",
        "* O(n) - Linear\n"
      ],
      "metadata": {
        "id": "UCiTxnkGj3cE"
      }
    },
    {
      "cell_type": "code",
      "source": [
        "def linear(n):\n",
        "  total = 0 \n",
        "  for i in n: # O(n)\n",
        "    total += i \n",
        "  return total "
      ],
      "metadata": {
        "id": "kTP4s74zj5s9"
      },
      "execution_count": null,
      "outputs": []
    },
    {
      "cell_type": "markdown",
      "source": [
        "\n",
        "* O(n log n) - Linearithmic\n"
      ],
      "metadata": {
        "id": "56tbFNfhj8TQ"
      }
    },
    {
      "cell_type": "code",
      "source": [
        "def linearithmic(n, base):\n",
        "  y = n\n",
        "  while y > 1:\n",
        "    n = int(n / 2)\n",
        "    print(f'Log({n}) = {math.log(n, base)}')\n",
        "    for i in range(y):\n",
        "      print(i)"
      ],
      "metadata": {
        "id": "5XYA8Bc1j9pP"
      },
      "execution_count": null,
      "outputs": []
    },
    {
      "cell_type": "markdown",
      "source": [
        "* O(n²) - Quadric\n"
      ],
      "metadata": {
        "id": "qk8_Z1t5kAT_"
      }
    },
    {
      "cell_type": "code",
      "source": [
        "def quadric(n):\n",
        "  for i in range(n):  # O(n)\n",
        "    i + 1    \n",
        "    for j in range(n):  # O(n) \n",
        "      j + 1 \n",
        "      print(i, j)"
      ],
      "metadata": {
        "id": "6ku9ywwPkDP_"
      },
      "execution_count": null,
      "outputs": []
    },
    {
      "cell_type": "markdown",
      "source": [
        "* O(n³) - Cubic\n"
      ],
      "metadata": {
        "id": "jg_8Oj6ZkG-L"
      }
    },
    {
      "cell_type": "code",
      "source": [
        "def cubic(n):\n",
        "    for i in range(n):  # O(n)\n",
        "      i + 1    \n",
        "      for j in range(n):  # O(n) \n",
        "        j + 1\n",
        "        for k in range(n):  # O(n) \n",
        "          k + 1 \n",
        "          print(i, j, k)"
      ],
      "metadata": {
        "id": "ivpJvFmukI_U"
      },
      "execution_count": null,
      "outputs": []
    },
    {
      "cell_type": "markdown",
      "source": [
        "* O(2**n) - Exponential\n"
      ],
      "metadata": {
        "id": "R78sBf9jkNGa"
      }
    },
    {
      "cell_type": "markdown",
      "source": [
        "* O(n!) - Factorial\n"
      ],
      "metadata": {
        "id": "oXvoMFC2kPxV"
      }
    },
    {
      "cell_type": "markdown",
      "metadata": {
        "id": "q3ez6WcicYnq"
      },
      "source": [
        "---\n",
        "# Data Structure\n",
        "\n",
        "Is a way to organizing data so that it can be use effectively"
      ]
    },
    {
      "cell_type": "markdown",
      "source": [
        "![CDTO.jpg](data:image/jpeg;base64,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)\n",
        "\n",
        "Source: https://www.bigocheatsheet.com/"
      ],
      "metadata": {
        "id": "LPLzqjNNaFMj"
      }
    },
    {
      "cell_type": "markdown",
      "metadata": {
        "id": "DIjEoCg8JA-0"
      },
      "source": [
        "### Arrays\n",
        "* Static\n",
        "* Dynamic"
      ]
    },
    {
      "cell_type": "code",
      "execution_count": null,
      "metadata": {
        "colab": {
          "base_uri": "https://localhost:8080/"
        },
        "id": "mT_-fJiOVNVj",
        "outputId": "76455a4e-38b0-4d39-e63b-3f1a14e15bbe"
      },
      "outputs": [
        {
          "output_type": "stream",
          "name": "stdout",
          "text": [
            "[46, 61, 25, 89, 47]\n"
          ]
        }
      ],
      "source": [
        "array_random = list(np.random.randint(100, size=(5)))\n",
        "print(array_random)"
      ]
    },
    {
      "cell_type": "code",
      "execution_count": null,
      "metadata": {
        "colab": {
          "base_uri": "https://localhost:8080/"
        },
        "id": "F7Kd0kRcK9t7",
        "outputId": "2d7195e7-0fef-482a-f5da-5d629e8d0d3a"
      },
      "outputs": [
        {
          "output_type": "stream",
          "name": "stdout",
          "text": [
            "array('i', [1, 2, 3, 4, 5])\n"
          ]
        }
      ],
      "source": [
        "array_sorted = array.array('i',(1, 2, 3, 4, 5))\n",
        "print(array_sorted)"
      ]
    },
    {
      "cell_type": "code",
      "execution_count": null,
      "metadata": {
        "colab": {
          "base_uri": "https://localhost:8080/"
        },
        "id": "Yg9bX4G6gpjk",
        "outputId": "bf5b6694-5aa9-4e74-cfb2-7b0d327b32b9"
      },
      "outputs": [
        {
          "output_type": "stream",
          "name": "stdout",
          "text": [
            "array('i', [1, 2, 1, 4, 3])\n"
          ]
        }
      ],
      "source": [
        "array_repeated = array.array('i',(1, 2, 1, 4, 3))\n",
        "print(array_repeated)"
      ]
    },
    {
      "cell_type": "markdown",
      "metadata": {
        "id": "irtinVmZsFcv"
      },
      "source": [
        "### Stack\n",
        "\n",
        "A list with restriction, that any operation have to bee maked from the top\n",
        "\n",
        "Is used for execution of function calls in a program\n",
        "\n",
        "* Last In First Out - (LIFO)"
      ]
    },
    {
      "cell_type": "code",
      "execution_count": null,
      "metadata": {
        "id": "z--kE65Kz6eb"
      },
      "outputs": [],
      "source": [
        "class Node:\n",
        "  def __init__(self, data):\n",
        "    self.data = data\n",
        "    self.next = None\n",
        "\n",
        "  \n",
        "class Stack:\n",
        "  def __init__(self, data):\n",
        "    self.top = None\n",
        "    self.size = 0\n",
        "\n",
        "  def display(self):\n",
        "    cur_node = self.top\n",
        "    while cur_node != None:\n",
        "      print(cur_node.data)\n",
        "      cur_node = cur_node.next\n",
        "\n",
        "  def push(self, data): # O(1)\n",
        "    new_node = Node(data)\n",
        "    if self.top is None:\n",
        "      self.top = new_node\n",
        "    else:\n",
        "      new_node.next = self.top\n",
        "      self.top = new_node\n",
        "    self.size += 1\n",
        "\n",
        "  def pop(self): # O(1)\n",
        "    if self.top is None:\n",
        "      return False\n",
        "    else:\n",
        "      temp_node = self.top\n",
        "      self.top = self.top.next\n",
        "      temp_node = None\n",
        "      self.size -= 1\n",
        "      return True\n",
        "  "
      ]
    },
    {
      "cell_type": "markdown",
      "metadata": {
        "id": "SVJ95hEnorwr"
      },
      "source": [
        "### Queue\n",
        "\n",
        "A Queue is a linear structure which follows a particular order in which the operations are performed.\n",
        "\n",
        "* First In First Out (FIFO)\n"
      ]
    },
    {
      "cell_type": "code",
      "execution_count": null,
      "metadata": {
        "id": "LbvR8rYtzOB6"
      },
      "outputs": [],
      "source": [
        "class Node:\n",
        "  def __init__(self, data):\n",
        "    self.data = data\n",
        "    self.next = None\n",
        "\n",
        "class Queue:\n",
        "  def __init__(self):\n",
        "    self.first = None\n",
        "    self.last = None\n",
        "    self.size = 0\n",
        "\n",
        "  def display(self):\n",
        "    cur_node = self.first\n",
        "    while cur_node != None:\n",
        "      print(cur_node.data)\n",
        "      cur_node = cur_node.next\n",
        "\n",
        "  def enqueue(self, data): # O(1)\n",
        "    new_node = Node(data)\n",
        "    if self.first is None:\n",
        "      self.first = new_node\n",
        "      self.last = new_node\n",
        "    else:\n",
        "      self.last.next = new_node\n",
        "      self.last = new_node\n",
        "    self.size += 1\n",
        "\n",
        "  def dequeue(self): # O(1)\n",
        "    if self.size == 0:\n",
        "      return False\n",
        "    temp_node = self.first \n",
        "    if self.size == 1:\n",
        "      self.first = None\n",
        "      self.last = None\n",
        "    else:      \n",
        "      self.first = self.first.next\n",
        "      temp_node.next = None\n",
        "    self.size -= 1\n",
        "    return temp_node.data\n"
      ]
    },
    {
      "cell_type": "markdown",
      "metadata": {
        "id": "pIfpiBC_Kwb4"
      },
      "source": [
        "### Linked List\n",
        "\n",
        "* **Head**: Start Node\n",
        "* **Node**: Element with two sub-elements (data, next)\n",
        "* **Tail**: Last Node\n",
        "\n",
        "#### Worst Case\n",
        "* Pop(n)\n",
        "* Search by Index"
      ]
    },
    {
      "cell_type": "markdown",
      "metadata": {
        "id": "vE2nJyZYfR3M"
      },
      "source": [
        "* Singly\n",
        "  * Head => Node => Node => Tail"
      ]
    },
    {
      "cell_type": "code",
      "execution_count": null,
      "metadata": {
        "id": "hhE15NzESonK"
      },
      "outputs": [],
      "source": [
        "class Node:\n",
        "  def __init__(self, data):\n",
        "    self.data = data\n",
        "    self.next = None\n",
        "\n",
        "class LinkedList:\n",
        "  def __init__(self):\n",
        "    self.head = None\n",
        "    self.tail = None\n",
        "    self.size = 0    \n",
        "\n",
        "  def append(self, data): # O(1)\n",
        "    new_node = Node(data)\n",
        "    if self.head is None:\n",
        "      self.head = new_node\n",
        "      self.tail = new_node\n",
        "      self.size += 1\n",
        "    else:\n",
        "      self.tail.next = new_node\n",
        "      self.tail = new_node\n",
        "      self.size += 1\n",
        "\n",
        "  def prepend(self,data): # O(1) \n",
        "    new_node = Node(data)\n",
        "    if self.head is None:\n",
        "      self.head = new_node\n",
        "      self.tail = new_node\n",
        "      self.size += 1\n",
        "    else:            \n",
        "      new_node.next = self.head\n",
        "      self.head = new_node\n",
        "      self.size += 1\n",
        "\n",
        "  def pop(self): # O(n)\n",
        "    if self.size == 0:\n",
        "      return None\n",
        "    cur_node = self.head\n",
        "    if self.tail == self.head:\n",
        "      self.head = None\n",
        "      self.tail = None\n",
        "    while cur_node.next != self.tail:\n",
        "      cur_node = cur_node.next\n",
        "    self.tail = cur_node\n",
        "    self.tail.next = None\n",
        "    self.size -= 1\n",
        "\n",
        "  def pop_first(self): # O(1)\n",
        "    if self.size == 0:\n",
        "      return False\n",
        "    cur_node = self.head\n",
        "    self.head = self.head.next\n",
        "    cur_node.next = None\n",
        "    self.size -= 1\n",
        "    if self.size == 0: \n",
        "      self.tail = None\n",
        "\n",
        "  def get(self, index): # O(n)\n",
        "    if (index-1) < 0 or (index) > self.size:\n",
        "      return False\n",
        "    cur_node = self.head\n",
        "    for i in range(index-1):\n",
        "      cur_node = cur_node.next\n",
        "    return cur_node\n",
        "\n",
        "  def set_data(self, index, data): # O(n)\n",
        "    if self.size == 0:\n",
        "      return False\n",
        "    else:\n",
        "      temp_node = self.get(index)\n",
        "      if temp_node:\n",
        "        temp_node.data = data\n",
        "        return True\n",
        "      return False\n",
        "\n",
        "  def insert(self, index, data): # O(n)\n",
        "    if (index-1) < 0 or (index-1) > self.size:\n",
        "      return False\n",
        "    if (index-1) == 0:\n",
        "      return self.prepend(data)\n",
        "    if (index-1) == self.size:\n",
        "      return self.append(data)\n",
        "    new_node = Node(data)\n",
        "    temp_node = self.get(index)\n",
        "    prev_node = self.get(index-1)\n",
        "    new_node.next = temp_node\n",
        "    prev_node.next = new_node\n",
        "    self.size += 1\n",
        "    return True\n",
        "\n",
        "  def remove(self, index): # O(n)\n",
        "    if (index-1) < 0 or index > self.size:\n",
        "      return False\n",
        "    if (index-1) == 0:\n",
        "      return self.pop_first()\n",
        "    if index == self.size:\n",
        "      return self.pop()\n",
        "    prev_node = self.get(index-1)\n",
        "    temp_node = prev_node.next      \n",
        "    prev_node.next = temp_node.next\n",
        "    temp_node.next = None\n",
        "    self.size -= 1\n",
        "    return temp_node\n",
        "\n",
        "  def reverse(self): # O(n)\n",
        "    temp_node = self.head\n",
        "    self.head = self.tail\n",
        "    self.tail = temp_node\n",
        "    after_node = None\n",
        "    prev_node = None\n",
        "    for _ in range(self.size):\n",
        "      after_node = temp_node.next\n",
        "      temp_node.next = prev_node\n",
        "      prev_node = temp_node\n",
        "      temp_node = after_node  \n",
        "\n",
        "  def display(self): # O(n)\n",
        "    if self.head is None:\n",
        "      return False\n",
        "    cur_node = self.head\n",
        "    while cur_node != None:\n",
        "      print(cur_node.data)\n",
        "      cur_node = cur_node.next  \n",
        "     \n",
        "\n"
      ]
    },
    {
      "cell_type": "markdown",
      "source": [
        "* Detect Loop in Linked List"
      ],
      "metadata": {
        "id": "Ll-HWV_buKqK"
      }
    },
    {
      "cell_type": "code",
      "source": [
        "def detectLoop(self, head):\n",
        "    slow_node = head\n",
        "    fast_node = head\n",
        "    while slow_node and fast_node and fast_node.next:\n",
        "        slow_node = slow_node.next\n",
        "        fast_node = fast_node.next.next\n",
        "        if slow_node == fast_node:\n",
        "            return True\n",
        "    return False"
      ],
      "metadata": {
        "id": "y5FdKhmKuKVA"
      },
      "execution_count": null,
      "outputs": []
    },
    {
      "cell_type": "markdown",
      "metadata": {
        "id": "YHTijQnGiYOn"
      },
      "source": [
        "* Doubly (under construction)\n",
        "  * Head <=> Node <=> Node <=> Tail"
      ]
    },
    {
      "cell_type": "markdown",
      "metadata": {
        "id": "nSHZGO_uq4Vz"
      },
      "source": [
        "### Tree\n",
        "\n",
        "Is a group of nodes conected each other.\n",
        "Each node can have multiples child.\n",
        "\n",
        "    * Root Node\n",
        "      * Node Child 1\n",
        "        * Node Child 1.1\n",
        "        * Node Child 1.2\n",
        "        * Node Child 1.3\n",
        "          * Node Child 1.1\n",
        "          * Node Child 1.2\n",
        "        * Node Child 1.4\n",
        "      * Node Child 2\n",
        "        * Node Child 2.1\n",
        "      * Node Child 3\n",
        "        * Node Child 3.1\n",
        "          * Node Child 3.1.1\n",
        "          * Node Child 3.1.2\n",
        "        * Node Child 3.2\n",
        "\n",
        "### Binary Tree\n",
        "\n",
        "Is a tree structure where each node has at most two children (node).\n",
        "\n",
        "* **root** The start node, dont have parent.\n",
        "* **interior** The nodes have parents and childrens\n",
        "* **leaf** The nodes without children\n",
        "\n",
        "\n",
        "    * Root\n",
        "      * Child left\n",
        "        * Leaf left\n",
        "        * Child right\n",
        "          * Leaf left\n",
        "      * Child right\n",
        "        * Leaf left\n",
        "        * Child right\n",
        "          * Leaf left\n",
        "          * Leaf right"
      ]
    },
    {
      "cell_type": "markdown",
      "metadata": {
        "id": "D_GtJ6Wgxdi4"
      },
      "source": [
        "#### Binary Search Tree"
      ]
    },
    {
      "cell_type": "code",
      "source": [
        "class Node:\n",
        "  def __init__(self, data):\n",
        "    self.data = data\n",
        "    self.left = None\n",
        "    self.right = None\n",
        "\n",
        "\n",
        "class BinarySearchTree:\n",
        "  def __init__(self):\n",
        "    self.root = None\n",
        "\n",
        "  def _display(self, root):\n",
        "    if root:\n",
        "      print(root.data)\n",
        "      if root.left:\n",
        "        self._display(root.left)\n",
        "      if root.right:\n",
        "        self._display(root.right)\n",
        "\n",
        "  def display(self):\n",
        "    temp_node = self.root\n",
        "    if temp_node:\n",
        "      print(temp_node.data)\n",
        "      if temp_node.left:\n",
        "        self._display(temp_node.left)\n",
        "      if temp_node.right:\n",
        "        self._display(temp_node.right)\n",
        "\n",
        "  def insert(self, data): # Θ(log n) and Worst case O(n)\n",
        "    new_node = Node(data)\n",
        "    if self.root is None:\n",
        "      self.root = new_node\n",
        "      return True\n",
        "    cur_node = self.root\n",
        "    while True:\n",
        "      if new_node.data == cur_node.data:\n",
        "        return False \n",
        "      if new_node.data < cur_node.data:\n",
        "        if cur_node.left is None:\n",
        "          cur_node.left = new_node\n",
        "          return True\n",
        "        else:\n",
        "          cur_node = cur_node.left\n",
        "      else:\n",
        "        if cur_node.right is None:\n",
        "          cur_node.right = new_node\n",
        "          return True\n",
        "        else:\n",
        "          cur_node = cur_node.right\n",
        "\n",
        "  def contains(self, data): # Θ(log n) and Worst case O(n)\n",
        "    if self.root is None: return False\n",
        "    temp_node = self.root\n",
        "    while temp_node != None:\n",
        "      if data < temp_node.data:\n",
        "        temp_node = temp_node.left\n",
        "      elif data > temp_node.data: \n",
        "        temp_node = temp_node.right\n",
        "      else: # data == temp_node.data\n",
        "        return True\n",
        "    return False\n",
        "\n",
        "  def min_of_node(self, cur_node):\n",
        "    while cur_node.left != None:\n",
        "      cur_node = cur_node.left\n",
        "    return cur_node"
      ],
      "metadata": {
        "id": "SQbsNbChDIO2"
      },
      "execution_count": null,
      "outputs": []
    },
    {
      "cell_type": "markdown",
      "source": [
        "* Test if is a Binary Search Tree:"
      ],
      "metadata": {
        "id": "2REW2Cuq9hd-"
      }
    },
    {
      "cell_type": "code",
      "source": [
        "maxValue = 100000\n",
        "minValue = 0\n",
        "\n",
        "class Solution:\n",
        "    \n",
        "    def isBST(self, root):\n",
        "        return self.isBSTutil(root, minValue, maxValue)\n",
        "    \n",
        "    \n",
        "    def isBSTutil(self, root, minValue, maxValue):\n",
        "        \n",
        "        if root == None:\n",
        "            return True\n",
        "    \n",
        "        if minValue > root.data:\n",
        "            return False\n",
        "    \n",
        "        if maxValue < root.data:\n",
        "            return False\n",
        "     \n",
        "        return self.isBSTutil(root.left, minValue, root.data-1 ) and self.isBSTutil(root.right, root.data+1, maxValue)\n",
        "       \n",
        "        "
      ],
      "metadata": {
        "id": "UFwtA7EJ9nc4"
      },
      "execution_count": null,
      "outputs": []
    },
    {
      "cell_type": "markdown",
      "source": [
        "* With Recursion"
      ],
      "metadata": {
        "id": "opnSXIK2DBAR"
      }
    },
    {
      "cell_type": "code",
      "execution_count": null,
      "metadata": {
        "id": "Ev5sC80RueUv"
      },
      "outputs": [],
      "source": [
        "class Node:\n",
        "  def __init__(self, data):\n",
        "    self.data = data\n",
        "    self.left = None\n",
        "    self.right = None\n",
        "\n",
        "\n",
        "class BinarySearchTree:\n",
        "  def __init__(self):\n",
        "    self.root = None \n",
        "  \n",
        "  def append(self, data):\n",
        "    if self.root is None:\n",
        "      self.root = Node(data)\n",
        "    else:      \n",
        "      self._append(data, self.root)\n",
        "\n",
        "  def _append(self, data, current_node):\n",
        "    if data < current_node.data:\n",
        "      if current_node.left is None:\n",
        "        current_node.left = Node(data)\n",
        "      else:\n",
        "        self._append(data, current_node.left)\n",
        "    elif data > current_node.data:\n",
        "      if current_node.right is None:\n",
        "        current_node.right = Node(data)\n",
        "      else:\n",
        "        self._append(data, current_node.right)\n",
        "\n",
        "  def get(self, data):\n",
        "    if self.root:\n",
        "      element = self._get(data, self.root)\n",
        "      if element:\n",
        "        return True\n",
        "      return False\n",
        "    else:\n",
        "      return None\n",
        "    \n",
        "  def _get(self, data, current_node):\n",
        "    if data > current_node.data and current_node.right:\n",
        "      return self._get(data, current_node.right)\n",
        "    elif data < current_node.data and current_node.left:\n",
        "      return self.get(data, current_node.left)\n",
        "    if data == current_node.data:\n",
        "      return True\n"
      ]
    },
    {
      "cell_type": "markdown",
      "metadata": {
        "id": "aepZ3KedHAbm"
      },
      "source": [
        "### Hash Table || Hash Map\n",
        "\n",
        "The ideia is use a ***hash function*** to convert a value to a smaller number to be used as a index in a ***hash table***\n",
        "\n",
        "* Hash Function\n",
        "  * hash a value to a small integer, using a math methods, that can be used as index:\n",
        "  * Math Methods\n",
        "    * Division\n",
        "    * Folding\n",
        "    * Mid Square\n",
        "    * Multiplication\n",
        "    * Mod\n",
        "\n",
        "* Hash Table or Hash Map\n",
        "  * An array that stores data to corresponding hash key\n",
        "\n",
        "* Collision Handling\n",
        "  * Close Addressing\n",
        "    * Chaining\n",
        "  * Open Addressing\n",
        "    * Linear Probing\n",
        "    * Quadratic Probing\n",
        "    * Double Hashing\n"
      ]
    },
    {
      "cell_type": "code",
      "execution_count": null,
      "metadata": {
        "colab": {
          "base_uri": "https://localhost:8080/"
        },
        "id": "FdXip0gu1UtM",
        "outputId": "c2f30c51-4dfe-4150-8478-dc6d88d88717"
      },
      "outputs": [
        {
          "name": "stdout",
          "output_type": "stream",
          "text": [
            "{1: 'Bruno', 75: 'Maria', 618: 'Simone', 639: 'Alberto', 787: 'Jose'}\n"
          ]
        }
      ],
      "source": [
        "data_dict = dict({1:'Bruno', 75:'Maria', 618:'Simone', 639:'Alberto', 787:'Jose'})\n",
        "print(data_dict)"
      ]
    },
    {
      "cell_type": "markdown",
      "source": [
        "* Nested\n"
      ],
      "metadata": {
        "id": "cjcmE_wGWrMk"
      }
    },
    {
      "cell_type": "code",
      "source": [
        "class HashTable:\n",
        "  def __init__(self, size):\n",
        "    self.size = size\n",
        "    self.data_map = [None] * self.size\n",
        "\n",
        "  def __hash(self, key): \n",
        "    hash_key =  0\n",
        "    for letter in key:\n",
        "      hash_key = (hash_key + ord(letter) * 11) % self.size\n",
        "    print(hash_key)\n",
        "    return hash_key\n",
        "\n",
        "  def set_item(self, key, data): # O(1)\n",
        "    index = self.__hash(key)\n",
        "    if self.data_map[index] == None:\n",
        "      self.data_map[index] = []\n",
        "    self.data_map[index].append([key, data])\n",
        "\n",
        "  def get(self, key):\n",
        "    index = self.__hash(key)\n",
        "    if self.data_map[index] != None:\n",
        "      for i in range(len(self.data_map[index])):\n",
        "        if self.data_map[index][i][0] == key:\n",
        "          return self.data_map[index][i][1]\n",
        "    return False\n",
        "\n",
        "  def display_keys(self):\n",
        "    keys = []\n",
        "    for i in range(self.size):\n",
        "      if self.data_map[i] != None:\n",
        "        for j in range(len(self.data_map[i])):\n",
        "          keys.append(self.data_map[i][j][0])\n",
        "    return keys\n",
        "\n",
        "  def display(self):\n",
        "    for i, data in enumerate(self.data_map):\n",
        "      print(f'Index: {i} = {data}') "
      ],
      "metadata": {
        "id": "-nUvaNYCWvDi"
      },
      "execution_count": null,
      "outputs": []
    },
    {
      "cell_type": "markdown",
      "source": [
        "### Graph\n",
        "\n",
        "* Vertex or Node\n",
        "* Edge or Connection\n",
        "* Adjacency Matrix and List"
      ],
      "metadata": {
        "id": "r7mh2nPBRZdX"
      }
    },
    {
      "cell_type": "code",
      "source": [
        "class Graph:\n",
        "  def __init__(self):\n",
        "    self.adjacency_list = {}\n",
        "    \n",
        "  def display(self):\n",
        "    for vertex in self.adjacency_list:\n",
        "      print(vertex,':',self.adjacency_list[vertex])\n",
        "\n",
        "  def add_vertex(self, vertex):\n",
        "    if vertex not in self.adjacency_list.keys():\n",
        "      self.adjacency_list[vertex] = []\n",
        "      return True\n",
        "    return False\n",
        "\n",
        "  def add_edge(self, vtx1, vtx2):\n",
        "    if vtx1 in self.adjacency_list.keys() and vtx2 in self.adjacency_list.keys():\n",
        "      self.adjacency_list[vtx1].append(vtx2)\n",
        "      self.adjacency_list[vtx2].append(vtx1)\n",
        "      return True\n",
        "    return False\n",
        "\n",
        "  def remove_edge(self, vtx1, vtx2):\n",
        "    if vtx1 in self.adjacency_list.keys() and vtx2 in self.adjacency_list.keys():\n",
        "      try:\n",
        "        self.adjacency_list[vtx1].remove(vtx2)\n",
        "        self.adjacency_list[vtx2].remove(vtx1)\n",
        "      except ValueError:\n",
        "        pass\n",
        "      return True\n",
        "    return False\n",
        "\n",
        "  def remove_vertex(self, vtx):\n",
        "    if vtx in self.adjacency_list.keys():\n",
        "      for other_vtx in self.adjacency_list[vtx]:\n",
        "        self.adjacency_list[other_vtx].remove(vtx)\n",
        "      del self.adjacency_list[vtx]\n",
        "      return True\n",
        "    return False\n"
      ],
      "metadata": {
        "id": "7lu91pTEVGu5"
      },
      "execution_count": null,
      "outputs": []
    },
    {
      "cell_type": "markdown",
      "metadata": {
        "id": "pA3KXbf5Qlgc"
      },
      "source": [
        "---\n",
        "# Algorithm"
      ]
    },
    {
      "cell_type": "markdown",
      "source": [
        "## Recursion\n",
        "\n",
        "Its a function, that calls itself"
      ],
      "metadata": {
        "id": "D3QLhS1IGQIG"
      }
    },
    {
      "cell_type": "markdown",
      "source": [
        "* Pseudo Code\n",
        "```\n",
        "def open_box(box):\n",
        "    if ball:\n",
        "      return ball\n",
        "    open_box(box)\n",
        "```\n",
        "\n"
      ],
      "metadata": {
        "id": "9OJ6XbdYnuuC"
      }
    },
    {
      "cell_type": "markdown",
      "source": [
        "* Call Stack"
      ],
      "metadata": {
        "id": "APYHVf0rpMPj"
      }
    },
    {
      "cell_type": "code",
      "source": [
        "def three():\n",
        "  print(3)\n",
        "\n",
        "def two():\n",
        "  three()\n",
        "  print(2)\n",
        "\n",
        "def one():\n",
        "  two()\n",
        "  print(1)\n"
      ],
      "metadata": {
        "id": "mUXajqiI8pJ1"
      },
      "execution_count": null,
      "outputs": []
    },
    {
      "cell_type": "markdown",
      "source": [
        "* Factorial "
      ],
      "metadata": {
        "id": "uuLOsWf193X6"
      }
    },
    {
      "cell_type": "code",
      "source": [
        "def factorial(n):\n",
        "  if n == 1:\n",
        "    return 1\n",
        "  return n * factorial(n-1)"
      ],
      "metadata": {
        "id": "dsyagUuS92RP"
      },
      "execution_count": null,
      "outputs": []
    },
    {
      "cell_type": "markdown",
      "metadata": {
        "id": "BzINo3iJn8xg"
      },
      "source": [
        "## Search\n",
        "\n",
        "* Linear Search\n",
        "* Binary Search\n",
        "* Jump Search\n",
        "* Interpolation Search\n",
        "* Exponential Search\n",
        "* Ternary Search"
      ]
    },
    {
      "cell_type": "markdown",
      "metadata": {
        "id": "J5XjpglKowRy"
      },
      "source": [
        "#### Linear Search\n",
        "\n",
        "* Time complexity: O(n)"
      ]
    },
    {
      "cell_type": "code",
      "execution_count": null,
      "metadata": {
        "id": "xM7cTs9oovQm"
      },
      "outputs": [],
      "source": [
        "def linear_search(arr, find):\n",
        "  for element in arr: # O(n)\n",
        "    if find == element:\n",
        "      print(element)\n",
        "      return True"
      ]
    },
    {
      "cell_type": "markdown",
      "metadata": {
        "id": "ubbvz_e5qiRa"
      },
      "source": [
        "#### Binary Search\n",
        "\n",
        "* Time complexity: O(log(n))"
      ]
    },
    {
      "cell_type": "code",
      "execution_count": null,
      "metadata": {
        "id": "DOb71E7OqkJl"
      },
      "outputs": [],
      "source": [
        "def binary_search(arr, find):\n",
        "  mid = int(len(arr)//2)\n",
        "  if find == arr[mid]:\n",
        "    return find\n",
        "  else:\n",
        "    if find < arr[mid]:\n",
        "      arr = arr[:mid]\n",
        "      binary_search(arr, find)\n",
        "    else:\n",
        "      arr = arr[mid:]\n",
        "      binary_search(arr, find)\n",
        "  return find"
      ]
    },
    {
      "cell_type": "markdown",
      "metadata": {
        "id": "uIHZYPfyJPE1"
      },
      "source": [
        "#### Binary Search - O(log n)"
      ]
    },
    {
      "cell_type": "code",
      "execution_count": null,
      "metadata": {
        "id": "Hm_VpIVCJVnV"
      },
      "outputs": [],
      "source": [
        "def binary_search(array, search):\n",
        "  array = sorted(array)\n",
        "  mid = int(len(array)/2)\n",
        "  if search == array[mid]:\n",
        "    print(f'Hole In!!! Your search: {search} is in the array[{mid}]')\n",
        "  elif search < array[mid] and search >= array[0]:\n",
        "    array = array[:mid]\n",
        "    print(array)\n",
        "    return binary_search(array, search)   \n",
        "  elif search > array[mid] and search <= array[len(array)-1]:\n",
        "    array = array[mid:]\n",
        "    print(array)\n",
        "    return binary_search(array, search)\n",
        "  else:\n",
        "    print(f'Your search is out of list.')"
      ]
    },
    {
      "cell_type": "markdown",
      "metadata": {
        "id": "n-b_zjUyv7H3"
      },
      "source": [
        "#### Jump Search\n",
        "\n",
        "* Time complexity: O(√ n)"
      ]
    },
    {
      "cell_type": "markdown",
      "metadata": {
        "id": "BAlZ_7CXwTU0"
      },
      "source": [
        "#### Interpolation Search\n",
        "\n",
        "* Time complexity: O(n)"
      ]
    },
    {
      "cell_type": "markdown",
      "metadata": {
        "id": "8fOdFwCC_NrA"
      },
      "source": [
        "## Sorting\n",
        "\n",
        "* Selection Sort\n",
        "* Bubble Sort\n",
        "* Insertion Sort\n",
        "* Merge Sort\n",
        "* Heap Sort\n",
        "* Quick Sort\n",
        "* Radix Sort\n",
        "* Counting Sort\n",
        "* Bucket Sort\n",
        "* ShellSort\n",
        "* Comb Sort\n",
        "* Pigeonhole Sort\n",
        "* Cycle Sort\n",
        "\n",
        "#### Time Complexity\n",
        "\n",
        "![SortingAlgotiyhms.jpg](data:image/jpeg;base64,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)\n",
        "\n",
        "Source: https://www.bigocheatsheet.com/\n",
        "\n",
        "\n",
        "#### Space Complexity\n",
        "\n",
        "* In-Place \n",
        "\n",
        "* External\n",
        "\n",
        "#### Stability\n",
        "\n",
        "Preserve the original sort of the same values.\n",
        "\n",
        "* Algorthm Stable\n",
        "  * Bubble Sort\n",
        "  * Insertion Sort\n",
        "  * Merge Sorte\n",
        "  * Count Sort\n",
        "\n",
        "* Algorthm Unstable\n",
        "  * Quick Sort\n",
        "  * Heap Sort\n",
        "\n",
        "#### Internal sort Vs. External Sort\n",
        "\n",
        "* Internal: All records in Main Memory / RAM\n",
        "\n",
        "* External: Records are on Disk\n",
        "\n",
        "#### Recursive or Non-Recursive\n",
        "\n",
        "* Recursive:\n",
        "  * Quick Sort\n",
        "  * Merge Sort\n",
        "\n",
        "* Non-Recursive\n",
        "  * Insertion Sort\n",
        "  * Selection Sort\n",
        "\n"
      ]
    },
    {
      "cell_type": "markdown",
      "metadata": {
        "id": "lD9cLCde6eit"
      },
      "source": [
        "#### Selection Sort\n",
        "\n",
        "* Time complexity: O(n²)\n",
        "\n",
        "* Space complexity: O(1)\n",
        "\n",
        "* Swap complexity: O(n)\n"
      ]
    },
    {
      "cell_type": "code",
      "execution_count": null,
      "metadata": {
        "id": "0hv0x4jdFotM"
      },
      "outputs": [],
      "source": [
        "def selection_sort(arr):\n",
        "  for i in range(len(arr)): # O(n)\n",
        "    low_ref = i\n",
        "    for j in range(i+1, len(arr)): # O(n)\n",
        "      if arr[low_ref] > arr[j]:\n",
        "        low_ref = j\n",
        "    arr[i], arr[low_ref] = arr[low_ref], arr[i]  \n",
        "  return arr\n",
        "\n",
        "\n",
        "def selection_sort2(array):\n",
        "  for i in range(len(array) - 1): # O(n)\n",
        "    min_index = i\n",
        "    for j in range(i + 1, len(array)): # O(n)     \n",
        "      if array[min_index] > array[j]:\n",
        "        min_index = j\n",
        "    if i != min_index:\n",
        "      array[i], array[min_index] = array[min_index], array[i]\n",
        "  return array"
      ]
    },
    {
      "cell_type": "markdown",
      "metadata": {
        "id": "yseBvAqyMCDu"
      },
      "source": [
        "#### Bubble Sort\n",
        "\n",
        "* Time complexity: O(n²)\n",
        "  * The worst-case occurs when an array is reverse sorted.\n",
        "\n",
        "* Space complexity: O(1)\n",
        "\n",
        "* Swap complexity: O(n)\n",
        "\n",
        "* Stable: Yes"
      ]
    },
    {
      "cell_type": "code",
      "execution_count": null,
      "metadata": {
        "id": "Tpaiva79MSZV"
      },
      "outputs": [],
      "source": [
        "def bubble_sort_1(arr): # O(n²)\n",
        "  for i in range(len(arr)): # O(n)\n",
        "    for j in range(0, len(arr)-i-1): # O(n)\n",
        "      if arr[j] > arr[j + 1]:\n",
        "        arr[j], arr[j + 1] = arr[j + 1], arr[j]\n",
        "  return arr"
      ]
    },
    {
      "cell_type": "code",
      "source": [
        "  def bubble_sort_2(array): # O(n²)\n",
        "  for i in range(len(array) - 1, 0, -1): # O(n)\n",
        "    for j in range(i): # O(n)\n",
        "      if array[j] > array[j+1]:\n",
        "        array[j], array[j+1] = array[j+1], array[j]\n",
        "  return array"
      ],
      "metadata": {
        "id": "zJTfuApR4dEY"
      },
      "execution_count": null,
      "outputs": []
    },
    {
      "cell_type": "markdown",
      "metadata": {
        "id": "pSXOqYpLVb4m"
      },
      "source": [
        "#### Insertion Sort\n",
        "\n",
        "* Time complexity: O(n²)\n",
        "  * The worst-case occurs when an array is reverse sorted.\n",
        "* Space complexity: O(1)\n",
        "\n",
        "* Sorting In-place: Yes\n",
        "\n",
        "* Stable: Yes"
      ]
    },
    {
      "cell_type": "code",
      "execution_count": null,
      "metadata": {
        "id": "FbPxD41pVi1M"
      },
      "outputs": [],
      "source": [
        "def insertion_sort(arr):\n",
        "  for i in range(1, len(arr)): # O(n)\n",
        "    cur_key = arr[i]\n",
        "    j = i - 1\n",
        "    while j >= 0 and arr[j] > cur_key: # O(n)\n",
        "      arr[j + 1] = arr[j] \n",
        "      j -= 1\n",
        "    arr[j + 1] = cur_key\n",
        "  return arr\n",
        "\n",
        "\n",
        "def insertion_sort2(array):\n",
        "  for i in range(1, len(array)):\n",
        "    temp = array[i]\n",
        "    j = i - 1\n",
        "    while temp < array[j] and j >= 0:\n",
        "      array[j], array[j+1] = array[j+1], array[j]\n",
        "      j -= 1 \n",
        "  return array"
      ]
    },
    {
      "cell_type": "markdown",
      "metadata": {
        "id": "UswRdyUjj-qw"
      },
      "source": [
        "### Divide and Conquer\n",
        "  1. **Divide**: Dividing the problem into smaller sub-problems.\n",
        "  2. **Conquer**: Solve sub-problems by calling recursively until solved.\n",
        "  3. **Combine**: Combine the sub-problems to get the final solution of the whole problem.\n",
        "\n",
        "Types of Divide and Conquer Algorithm:\n",
        "\n",
        "  * QuickSort\n",
        "  * Merge Sort\n"
      ]
    },
    {
      "cell_type": "markdown",
      "metadata": {
        "id": "wYEqMFdtnSf_"
      },
      "source": [
        "#### Merge Sort\n",
        "\n",
        "* Time Complexity: O(n log n) for 3 cases (worst, average and best)\n",
        "* Space Complexity: O(n)\n",
        "* Stable: Yes"
      ]
    },
    {
      "cell_type": "code",
      "execution_count": null,
      "metadata": {
        "id": "5D-roqwedW8b"
      },
      "outputs": [],
      "source": [
        "# O(log n)\n",
        "def split_sort(array):\n",
        "  if len(array) == 1:\n",
        "    return array\n",
        "  else:\n",
        "    mid = int(len(array)/2)\n",
        "    left_array = sorted(array[:mid])\n",
        "    right_array = sorted(array[mid:])\n",
        "    return merge_sort(left_array, right_array)\n",
        "\n",
        "  \n",
        "# O(n)\n",
        "def merge_sort(left_array, right_array):\n",
        "  array = []\n",
        "  left_index = 0\n",
        "  right_index = 0\n",
        "  # Iterate left and right arrays, to sorte the values.\n",
        "  while left_index < len(left_array) and right_index < len(right_array):\n",
        "    # If left array less than right add left value.\n",
        "    if left_array[left_index] < right_array[right_index]:\n",
        "      array += [left_array[left_index]]\n",
        "      left_index += 1\n",
        "    # If right array less than left add left value.\n",
        "    elif left_array[left_index] > right_array[right_index]:\n",
        "      array += [right_array[right_index]]\n",
        "      right_index += 1\n",
        "    # If boths values equqal, add boths values.\n",
        "    else:\n",
        "      array += [left_array[left_index]]\n",
        "      array += [right_array[right_index]]\n",
        "      left_index += 1\n",
        "      right_index += 1\n",
        "  # At end, add the las value remainder not compared\n",
        "  if left_index < len(left_array):\n",
        "    array += [left_array[left_index]]\n",
        "  elif right_index < len(right_array): \n",
        "    array += [right_array[right_index]]\n",
        "  return array\n",
        "    "
      ]
    },
    {
      "cell_type": "code",
      "source": [
        "def merge(left, right):\n",
        "  combined = []\n",
        "  i = 0\n",
        "  j = 0\n",
        "  while i < len(left) and j < len(right): # Time: O(n)\n",
        "    if left[i] < right[j]:\n",
        "      combined.append(left[i])\n",
        "      i += 1\n",
        "    else:\n",
        "      combined.append(right[j])\n",
        "      j += 1\n",
        "  while i < len(left): # Time: O(n)\n",
        "    combined.append(left[i])\n",
        "    i += 1\n",
        "  while j < len(right): # Time: O(n)\n",
        "    combined.append(right[j])\n",
        "    j += 1\n",
        "  return combined\n",
        "\n",
        "def merge_sort2(array): # Space: O(1) => O(n) && Time: O(log n)\n",
        "  if len(array) == 1:\n",
        "    return array\n",
        "  mid = int(len(array)//2)\n",
        "  left = array[:mid]\n",
        "  right = array[mid:]\n",
        "  return merge(merge_sort2(left), merge_sort2(right))"
      ],
      "metadata": {
        "id": "j-0oAcsMAuiI"
      },
      "execution_count": null,
      "outputs": []
    },
    {
      "cell_type": "markdown",
      "metadata": {
        "id": "gAjPYvwFWLQh"
      },
      "source": [
        "#### Quick Sort\n",
        "\n",
        "* Instable\n",
        "* Inplace\n",
        "\n",
        "* The worst case occurs when the partition process always picks greatest or smallest element as pivot"
      ]
    },
    {
      "cell_type": "markdown",
      "source": [
        "* Quick Sort #1"
      ],
      "metadata": {
        "id": "wkR1ZPpexyT8"
      }
    },
    {
      "cell_type": "code",
      "source": [
        "def partition(array, left, right):\n",
        "  pivot = array[right]\n",
        "  i = left - 1\n",
        "  for j in range(left, right): # O(n) or Worst Case O(n²)\n",
        "    if array[j] <= pivot:\n",
        "      i += 1\n",
        "      array[i], array[j] = array[j], array[i]\n",
        "  array[i + 1], array[right] = array[right], array[i + 1]\n",
        "  return i + 1\n",
        "\n",
        "\n",
        "def quicksort(array, left, right): # O(log n)\n",
        "  if left < right:\n",
        "    index_pivot = partition(array, left, right)\n",
        "    quicksort(array, left, index_pivot - 1)\n",
        "    quicksort(array, index_pivot + 1, right)\n",
        "  return array"
      ],
      "metadata": {
        "id": "GJbpXsHvxxp4"
      },
      "execution_count": null,
      "outputs": []
    },
    {
      "cell_type": "markdown",
      "source": [
        "* Quick Sort #2"
      ],
      "metadata": {
        "id": "QbvU76bXcqhm"
      }
    },
    {
      "cell_type": "code",
      "source": [
        "def swap(array, index_one, index_two):\n",
        "  temp = array[index_one]\n",
        "  array[index_one] = array[index_two]\n",
        "  array[index_two] = temp\n",
        "\n",
        "def pivot(array, pivot_index, end_index):\n",
        "  \n",
        "  swap_index = pivot_index\n",
        "\n",
        "  for i in range(pivot_index + 1, end_index + 1): # O(n) or *Worst Case O(n²) \n",
        "    if array[i] < array[pivot_index]:\n",
        "      swap_index += 1\n",
        "      swap(array, swap_index, i)\n",
        "  swap(array, pivot_index, swap_index)\n",
        "  return swap_index\n",
        "\n",
        "def quicksort_helper(array, left, right): # O(log n)\n",
        "  if left < right:\n",
        "    pivot_index = pivot(array, left, right)\n",
        "    quicksort_helper(array, left, pivot_index-1)\n",
        "    quicksort_helper(array, pivot_index+1, right)\n",
        "  return array\n",
        "\n",
        "def quicksort(array):\n",
        "  return quicksort_helper(array, 0, len(array) - 1)"
      ],
      "metadata": {
        "id": "D9GAVcxfctAI"
      },
      "execution_count": null,
      "outputs": []
    },
    {
      "cell_type": "markdown",
      "source": [
        "* QuickSort (simple way)"
      ],
      "metadata": {
        "id": "y3c83tBPvEz6"
      }
    },
    {
      "cell_type": "code",
      "execution_count": null,
      "metadata": {
        "id": "lVaBAbrdWK7Z"
      },
      "outputs": [],
      "source": [
        "def quicksort_simple(array):\n",
        "  length = len(array)  \n",
        "  if length <= 1: # O(1)\n",
        "    return array\n",
        "  else: # O(1)\n",
        "    pivot = array.pop()\n",
        "\n",
        "  part_left = []\n",
        "  part_right = []\n",
        "\n",
        "  for item in array: # O(n)\n",
        "    if item < pivot: # O(1)\n",
        "      part_left.append(item)\n",
        "    else: # O(1)\n",
        "      part_right.append(item)\n",
        "  return quicksort_simple(part_left) + [pivot] + quicksort_simple(part_right) # O(log n) + O(1) + O(log n) \n"
      ]
    },
    {
      "cell_type": "markdown",
      "metadata": {
        "id": "hu8347FOn9Ey"
      },
      "source": [
        "## Breadth-first and Depth-first \n",
        "Is a tecnich to traverse or search a graph."
      ]
    },
    {
      "cell_type": "markdown",
      "metadata": {
        "id": "i_ZNan5jSFjD"
      },
      "source": [
        "![800px-Binary_search_tree.svg_ccexpress.png](data:image/png;base64,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)"
      ]
    },
    {
      "cell_type": "markdown",
      "metadata": {
        "id": "o83_LSbNCu44"
      },
      "source": [
        "\n",
        "### Breadth-first:\n",
        "  * Data Structure:\n",
        "    * Queue (FIFO)\n",
        "  * Traversal:\n",
        "    * Level-order:`<level_1><level_2><level_3>`\n",
        "      * Output: `[8, 3, 10, 1, 6, 14, 4, 7, 13]`\n",
        "    "
      ]
    },
    {
      "cell_type": "code",
      "source": [
        "class Node:\n",
        "  def __init__(self, data):\n",
        "    self.data = data\n",
        "    self.left = None\n",
        "    self.right = None\n",
        "\n",
        "\n",
        "class BinarySearchTree:\n",
        "  def __init__(self):\n",
        "    self.root = None\n",
        "\n",
        "  def _display(self, root):\n",
        "    if root:\n",
        "      print(root.data)\n",
        "      if root.left:\n",
        "        self._display(root.left)\n",
        "      if root.right:\n",
        "        self._display(root.right)\n",
        "\n",
        "  def display(self):\n",
        "    temp_node = self.root\n",
        "    if temp_node:\n",
        "      print(temp_node.data)\n",
        "      if temp_node.left:\n",
        "        self._display(temp_node.left)\n",
        "      if temp_node.right:\n",
        "        self._display(temp_node.right)\n",
        "\n",
        "  def insert(self, data):\n",
        "    new_node = Node(data)\n",
        "    if self.root is None:\n",
        "      self.root = new_node\n",
        "      return True\n",
        "    cur_node = self.root\n",
        "    while True:\n",
        "      if new_node.data == cur_node.data:\n",
        "        return False \n",
        "      if new_node.data < cur_node.data:\n",
        "        if cur_node.left is None:\n",
        "          cur_node.left = new_node\n",
        "          return True\n",
        "        else:\n",
        "          cur_node = cur_node.left\n",
        "      else:\n",
        "        if cur_node.right is None:\n",
        "          cur_node.right = new_node\n",
        "          return True\n",
        "        else:\n",
        "          cur_node = cur_node.right\n",
        "\n",
        "  def breadth_first(self):\n",
        "    current_node = self.root\n",
        "    queue = []\n",
        "    result = []\n",
        "    queue.append(current_node)\n",
        "    while len(queue) > 0:\n",
        "      current_node = queue.pop(0)\n",
        "      result.append(current_node.data)\n",
        "      if current_node.left != None:\n",
        "       queue.append(current_node.left) \n",
        "      if current_node.right != None:\n",
        "       queue.append(current_node.right)\n",
        "    return result"
      ],
      "metadata": {
        "id": "2WgRrCnI8yya"
      },
      "execution_count": null,
      "outputs": []
    },
    {
      "cell_type": "markdown",
      "metadata": {
        "id": "usLKFvNIoR6C"
      },
      "source": [
        "### Depth-first:\n",
        "  * Data Structure:\n",
        "    * Stack (LIFO)\n",
        "  * Traversal:\n",
        "    * Preorder `<root><left><right>`\n",
        "      * Output: `[8, 3, 1, 6, 4, 7, 10, 14, 13]`\n",
        "    * Inorder `<left><root><right>`\n",
        "      * Output: `[1, 3, 4, 6, 7, 8, 10, 13, 14]`\n",
        "    * Postorder `<left><right><root>`\n",
        "      * Output: `[1, 4, 7, 6, 3, 13, 14, 10, 8]`\n"
      ]
    },
    {
      "cell_type": "code",
      "source": [
        "class Node:\n",
        "  def __init__(self, data):\n",
        "    self.data = data\n",
        "    self.left = None\n",
        "    self.right = None\n",
        "\n",
        "\n",
        "class BinarySearchTree:\n",
        "  def __init__(self):\n",
        "    self.root = None\n",
        "\n",
        "  def insert(self, data):\n",
        "    new_node = Node(data)\n",
        "    if self.root is None:\n",
        "      self.root = new_node\n",
        "      return True\n",
        "    cur_node = self.root\n",
        "    while True:\n",
        "      if new_node.data == cur_node.data:\n",
        "        return False \n",
        "      if new_node.data < cur_node.data:\n",
        "        if cur_node.left is None:\n",
        "          cur_node.left = new_node\n",
        "          return True\n",
        "        else:\n",
        "          cur_node = cur_node.left\n",
        "      else:\n",
        "        if cur_node.right is None:\n",
        "          cur_node.right = new_node\n",
        "          return True\n",
        "        else:\n",
        "          cur_node = cur_node.right\n",
        "\n",
        "  def preorder(self):\n",
        "    result = []    \n",
        "    def traverse(current_node):\n",
        "      result.append(current_node.data)\n",
        "      if current_node.left != None:\n",
        "        traverse(current_node.left)\n",
        "      if current_node.right != None:\n",
        "        traverse(current_node.right)\n",
        "    traverse(self.root)\n",
        "    return result\n",
        "    \n",
        "  def inorder(self):\n",
        "    result = []\n",
        "    def traverse(current_node):\n",
        "      if current_node.left != None:\n",
        "        traverse(current_node.left)\n",
        "      result.append(current_node.data)\n",
        "      if current_node.right != None:\n",
        "        traverse(current_node.right)\n",
        "    traverse(self.root)\n",
        "    return result\n",
        "\n",
        "  def postorder(self):\n",
        "    result = []\n",
        "    def traverse(current_node):\n",
        "      if current_node.left != None:\n",
        "        traverse(current_node.left)\n",
        "      if current_node.right != None:\n",
        "        traverse(current_node.right)\n",
        "      result.append(current_node.data)\n",
        "    traverse(self.root)\n",
        "    return result\n",
        "\n"
      ],
      "metadata": {
        "id": "cKotPCCSOmpP"
      },
      "execution_count": null,
      "outputs": []
    },
    {
      "cell_type": "markdown",
      "metadata": {
        "id": "X_aCjWH6owVT"
      },
      "source": [
        "---\n",
        "# Dynamic Programming\n",
        "\n",
        "\n",
        "\n",
        "1.   Recursion\n",
        "2.   Memoization (Top Down) \n",
        "3.   Tabulation (Bottom Up)\n"
      ]
    },
    {
      "cell_type": "markdown",
      "metadata": {
        "id": "BEDWkLMzo5xn"
      },
      "source": [
        "### Fibonnaci Sample \n",
        "\n",
        "`[1, 1, 2, 3, 5, 8, ...]`\n",
        "\n",
        "* 1+1 = 2\n",
        "* 2+1 = 3\n",
        "* 3+2 = 5\n",
        "* 5+3 = 8\n",
        "* 8+5 = ...\n",
        "\n"
      ]
    },
    {
      "cell_type": "markdown",
      "metadata": {
        "id": "ctPw5ftCjOHl"
      },
      "source": [
        "#### Fibonnacci: Recursion Solution"
      ]
    },
    {
      "cell_type": "code",
      "execution_count": null,
      "metadata": {
        "id": "MgyT4iGUjVpA"
      },
      "outputs": [],
      "source": [
        "def fib_recursion(n):\n",
        "  if n == 1 or n == 2:\n",
        "    return 1\n",
        "  return fib_recursion(n-1) + fib_recursion(n-2)"
      ]
    },
    {
      "cell_type": "markdown",
      "metadata": {
        "id": "ZJ3niIRjOnGh"
      },
      "source": [
        "#### Fibonnacci: Memoized Solution (Top Down) "
      ]
    },
    {
      "cell_type": "code",
      "execution_count": null,
      "metadata": {
        "id": "AIzGj14Yo94r"
      },
      "outputs": [],
      "source": [
        "def fib_memoization(n, memoize):\n",
        "  if memoize[n]:    \n",
        "    print(f'Memoize: Fib({n}) = {memoize[n]}')\n",
        "    return memoize[n]\n",
        "  if n == 1 or n == 2:\n",
        "    result = 1\n",
        "    print(f'Fib(1) or Fib(2): {result}')\n",
        "  else:\n",
        "    print(f'Else enter: Fib({n})')\n",
        "    result = fib_memoization(n - 1, memoize) + fib_memoization(n - 2, memoize)\n",
        "    print(f'Else result: Fib({n}) = {result}')\n",
        "    memoize[n] = result\n",
        "  return result"
      ]
    },
    {
      "cell_type": "markdown",
      "metadata": {
        "id": "ilj36iQhh0nn"
      },
      "source": [
        "#### Fibonnacci: Tabulation Solution (Bottom Up) "
      ]
    },
    {
      "cell_type": "code",
      "execution_count": null,
      "metadata": {
        "id": "FB185MwsiEzG"
      },
      "outputs": [],
      "source": [
        "def fib_tabulation(n):\n",
        "  fib = [0] * (n+1) # O(1) \n",
        "  fib[1] = 1 # O(1) \n",
        "  for i in range(2, n + 1): # for, range => O(n) + O(1)\n",
        "    fib[i] = fib[i - 1] + fib[i - 2]\n",
        "  return fib[n] # O(1) \n"
      ]
    }
  ],
  "metadata": {
    "colab": {
      "collapsed_sections": [
        "xCGTFpHaQtmk",
        "q3ez6WcicYnq",
        "nSHZGO_uq4Vz",
        "D3QLhS1IGQIG",
        "BzINo3iJn8xg"
      ],
      "name": "Software Engenieer.ipynb",
      "provenance": [],
      "toc_visible": true,
      "authorship_tag": "ABX9TyMyat5NTzBu4qQ6h7+uRDua",
      "include_colab_link": true
    },
    "kernelspec": {
      "display_name": "Python 3",
      "name": "python3"
    },
    "language_info": {
      "name": "python"
    }
  },
  "nbformat": 4,
  "nbformat_minor": 0
}